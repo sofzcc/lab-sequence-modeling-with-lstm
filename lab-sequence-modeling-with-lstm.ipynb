{
  "cells": [
    {
      "cell_type": "code",
      "source": [
        "import os\n",
        "import zipfile\n",
        "import urllib.request\n",
        "\n",
        "# Download the GloVe embeddings\n",
        "glove_url = \"https://s3.amazonaws.com/auxdata.johnsnowlabs.com/public/models/glove_100d_en_2.4.0_2.4_1579690104032.zip\"\n",
        "glove_zip = \"glove_100d_en_2.4.0_2.4_1579690104032.zip\"\n",
        "\n",
        "# Download the file\n",
        "urllib.request.urlretrieve(glove_url, glove_zip)\n",
        "\n",
        "# Unzip the file\n",
        "with zipfile.ZipFile(glove_zip, 'r') as zip_ref:\n",
        "    zip_ref.extractall(\".\")\n",
        "\n",
        "# Verify the files are extracted\n",
        "os.listdir(\".\")"
      ],
      "metadata": {
        "id": "P5X6iHTGSRXd"
      },
      "execution_count": null,
      "outputs": []
    },
    {
      "cell_type": "markdown",
      "metadata": {
        "id": "fTWVLQthOh-u"
      },
      "source": [
        "# Lab | Sequence Modeling with LSTM"
      ]
    },
    {
      "cell_type": "code",
      "execution_count": 4,
      "metadata": {
        "id": "hmA6EzkQJ5jt",
        "scrolled": true,
        "tags": []
      },
      "outputs": [],
      "source": [
        "import json\n",
        "import tensorflow as tf\n",
        "import csv\n",
        "import random\n",
        "import numpy as np\n",
        "\n",
        "from tensorflow.keras.preprocessing.text import Tokenizer\n",
        "from tensorflow.keras.preprocessing.sequence import pad_sequences\n",
        "from tensorflow.keras.utils import to_categorical\n",
        "from tensorflow.keras import regularizers\n",
        "\n",
        "\n",
        "embedding_dim = 100\n",
        "max_length = 16 #the max length can be changed, but as higher the length the bigger the sequence, and higher the computational costs\n",
        "trunc_type='post' #if the sequence is longer than the max_length, it truncates it at the end of the sequence\n",
        "padding_type='post' #if the sequence is smaller than the max_length, it adds at the end of the sequence\n",
        "oov_tok = \"<OOV>\"  #out of vocabulary token\n",
        "training_size= 160000\n",
        "#Your dataset size here. Experiment using smaller values (i.e. 16000), but don't forget to train on at least 160000 to see the best effects\n",
        "test_portion=.1\n",
        "\n"
      ]
    },
    {
      "cell_type": "code",
      "execution_count": 5,
      "metadata": {
        "id": "bM0l_dORKqE0",
        "scrolled": true
      },
      "outputs": [],
      "source": [
        "#!wget --no-check-certificate \\\n",
        "    #https://storage.googleapis.com/laurencemoroney-blog.appspot.com/training_cleaned.csv \\\n",
        "    #-O /tmp/training_cleaned.csv\n",
        "\n",
        "corpus = [] #initialize empty corpus\n",
        "\n",
        "num_sentences = 0\n",
        "\n",
        "with open(\"./training.1600000.processed.noemoticon.csv\", encoding='utf-8', errors='replace') as csvfile:\n",
        "    reader = csv.reader(csvfile, delimiter=',')\n",
        "    for row in reader:\n",
        "      # Your Code here. Create list items where the first item is the text, found in row[5], and the second is the label. Note that the label is a '0' or a '4' in the text. When it's the former, make\n",
        "      # your label to be 0, otherwise 1. Keep a count of the number of sentences in num_sentences\n",
        "        list_item=[]\n",
        "        # YOUR CODE HERE\n",
        "        if len(row)==6:\n",
        "          list_item = [row[5]]\n",
        "          item_label = row[0]\n",
        "          list_item.append(0 if item_label == '0' else 1)\n",
        "          num_sentences = num_sentences + 1\n",
        "          corpus.append(list_item)\n"
      ]
    },
    {
      "cell_type": "code",
      "execution_count": 6,
      "metadata": {
        "colab": {
          "base_uri": "https://localhost:8080/"
        },
        "id": "3kxblBUjEUX-",
        "outputId": "50c9c949-bef7-4a67-9837-eeb05df4dccb",
        "scrolled": true
      },
      "outputs": [
        {
          "output_type": "stream",
          "name": "stdout",
          "text": [
            "1600000\n",
            "1600000\n",
            "[\"is upset that he can't update his Facebook by texting it... and might cry as a result  School today also. Blah!\", 0]\n"
          ]
        }
      ],
      "source": [
        "print(num_sentences)\n",
        "print(len(corpus))\n",
        "print(corpus[1])\n",
        "\n",
        "# Expected Output:\n",
        "# 1600000\n",
        "# 1600000\n",
        "# [\"is upset that he can't update his Facebook by texting it... and might cry as a result  School today also. Blah!\", 0]"
      ]
    },
    {
      "cell_type": "code",
      "execution_count": 7,
      "metadata": {
        "id": "ohOGz24lsNAD",
        "scrolled": true
      },
      "outputs": [],
      "source": [
        "sentences=[]\n",
        "labels=[]\n",
        "random.shuffle(corpus)\n",
        "for x in range(training_size):\n",
        "    sentences.append(corpus[x][0]) # grabs the text from the corpus which is on the first column\n",
        "    labels.append(corpus[x][1]) # grabs the label from the corpus which is on the second column\n",
        "\n",
        "\n",
        "tokenizer = Tokenizer()\n",
        "\n",
        "tokenizer.fit_on_texts(sentences) # YOUR CODE HERE\n",
        "\n",
        "word_index = tokenizer.word_index\n",
        "vocab_size=len(word_index) # YOUR CODE HERE\n",
        "\n",
        "sequences = tokenizer.texts_to_sequences(sentences) # YOUR CODE HERE\n",
        "padded = pad_sequences(sequences, maxlen=max_length, padding = padding_type, truncating=trunc_type) # YOUR CODE HERE\n",
        "\n",
        "split = int(test_portion * training_size)\n",
        "\n",
        "test_sequences = padded[0:split] # YOUR CODE HERE\n",
        "training_sequences = padded[split:training_size] # YOUR CODE HERE\n",
        "test_labels = labels[0:split] # YOUR CODE HERE\n",
        "training_labels = labels[split:training_size] # YOUR CODE HERE\n"
      ]
    },
    {
      "cell_type": "code",
      "execution_count": 8,
      "metadata": {
        "colab": {
          "base_uri": "https://localhost:8080/"
        },
        "id": "gIrtRem1En3N",
        "outputId": "9baf1ea3-bf56-4aae-e881-e057b40b2d80",
        "scrolled": true
      },
      "outputs": [
        {
          "output_type": "stream",
          "name": "stdout",
          "text": [
            "138482\n",
            "1\n"
          ]
        }
      ],
      "source": [
        "print(vocab_size)\n",
        "print(word_index['i'])\n",
        "# Expected Output\n",
        "# 138858\n",
        "# 1"
      ]
    },
    {
      "cell_type": "code",
      "execution_count": 9,
      "metadata": {
        "id": "8MfdX1R0Oh_B",
        "outputId": "c6a84e53-5338-491f-cff4-85d504d5432a",
        "colab": {
          "base_uri": "https://localhost:8080/"
        }
      },
      "outputs": [
        {
          "output_type": "stream",
          "name": "stdout",
          "text": [
            "(16000, 16)\n",
            "(144000, 16)\n"
          ]
        }
      ],
      "source": [
        "print(test_sequences.shape)\n",
        "print(training_sequences.shape)"
      ]
    },
    {
      "cell_type": "code",
      "execution_count": 10,
      "metadata": {
        "id": "C1zdgJkusRh0",
        "scrolled": true
      },
      "outputs": [],
      "source": [
        "# Note this is the 100 dimension version of GloVe from Stanford\n",
        "# I unzipped and hosted it on my site to make this notebook easier\n",
        "# wget --no-check-certificate \\\n",
        "#     https://storage.googleapis.com/laurencemoroney-blog.appspot.com/glove.6B.100d.txt \\\n",
        "#     -O /tmp/glove.6B.100d.txt\n",
        "\n",
        "embeddings_index = {}\n",
        "with open('./glove.6B.100d.txt') as f:\n",
        "    for line in f:\n",
        "        values = line.split()\n",
        "        word = values[0]\n",
        "        coefs = np.asarray(values[1:], dtype='float32')\n",
        "        embeddings_index[word] = coefs\n",
        "\n",
        "embeddings_matrix = np.zeros((vocab_size+1, embedding_dim))\n",
        "for word, i in word_index.items():\n",
        "    embedding_vector = embeddings_index.get(word)\n",
        "    if embedding_vector is not None:\n",
        "        embeddings_matrix[i] = embedding_vector"
      ]
    },
    {
      "cell_type": "code",
      "execution_count": 11,
      "metadata": {
        "colab": {
          "base_uri": "https://localhost:8080/"
        },
        "id": "71NLk_lpFLNt",
        "outputId": "12a3b66a-3662-45bc-de62-048e30e67bea",
        "scrolled": true
      },
      "outputs": [
        {
          "output_type": "stream",
          "name": "stdout",
          "text": [
            "138483\n"
          ]
        }
      ],
      "source": [
        "print(len(embeddings_matrix))\n",
        "# Expected Output\n",
        "# 138859"
      ]
    },
    {
      "cell_type": "code",
      "execution_count": 14,
      "metadata": {
        "id": "iKKvbuEBOGFz",
        "scrolled": true,
        "colab": {
          "base_uri": "https://localhost:8080/"
        },
        "outputId": "db9c9283-5bcf-49fe-e83b-b7a5082ee320"
      },
      "outputs": [
        {
          "output_type": "stream",
          "name": "stdout",
          "text": [
            "Model: \"sequential_1\"\n",
            "_________________________________________________________________\n",
            " Layer (type)                Output Shape              Param #   \n",
            "=================================================================\n",
            " embedding_2 (Embedding)     (None, 16, 100)           13848300  \n",
            "                                                                 \n",
            " dropout_4 (Dropout)         (None, 16, 100)           0         \n",
            "                                                                 \n",
            " lstm_3 (LSTM)               (None, 16, 128)           117248    \n",
            "                                                                 \n",
            " dropout_5 (Dropout)         (None, 16, 128)           0         \n",
            "                                                                 \n",
            " lstm_4 (LSTM)               (None, 64)                49408     \n",
            "                                                                 \n",
            " dense_2 (Dense)             (None, 64)                4160      \n",
            "                                                                 \n",
            " dense_3 (Dense)             (None, 1)                 65        \n",
            "                                                                 \n",
            "=================================================================\n",
            "Total params: 14019181 (53.48 MB)\n",
            "Trainable params: 170881 (667.50 KB)\n",
            "Non-trainable params: 13848300 (52.83 MB)\n",
            "_________________________________________________________________\n",
            "Epoch 1/50\n",
            "4500/4500 - 30s - loss: 0.6003 - accuracy: 0.7027 - val_loss: 0.5283 - val_accuracy: 0.7387 - 30s/epoch - 7ms/step\n",
            "Epoch 2/50\n",
            "4500/4500 - 25s - loss: 0.5259 - accuracy: 0.7427 - val_loss: 0.4970 - val_accuracy: 0.7590 - 25s/epoch - 6ms/step\n",
            "Epoch 3/50\n",
            "4500/4500 - 28s - loss: 0.5017 - accuracy: 0.7581 - val_loss: 0.4956 - val_accuracy: 0.7637 - 28s/epoch - 6ms/step\n",
            "Epoch 4/50\n",
            "4500/4500 - 26s - loss: 0.4868 - accuracy: 0.7682 - val_loss: 0.4755 - val_accuracy: 0.7730 - 26s/epoch - 6ms/step\n",
            "Epoch 5/50\n",
            "4500/4500 - 25s - loss: 0.4749 - accuracy: 0.7753 - val_loss: 0.4739 - val_accuracy: 0.7775 - 25s/epoch - 6ms/step\n",
            "Epoch 6/50\n",
            "4500/4500 - 25s - loss: 0.4648 - accuracy: 0.7811 - val_loss: 0.4718 - val_accuracy: 0.7791 - 25s/epoch - 6ms/step\n",
            "Epoch 7/50\n",
            "4500/4500 - 26s - loss: 0.4548 - accuracy: 0.7874 - val_loss: 0.4710 - val_accuracy: 0.7775 - 26s/epoch - 6ms/step\n",
            "Epoch 8/50\n",
            "4500/4500 - 26s - loss: 0.4488 - accuracy: 0.7905 - val_loss: 0.4655 - val_accuracy: 0.7797 - 26s/epoch - 6ms/step\n",
            "Epoch 9/50\n",
            "4500/4500 - 25s - loss: 0.4411 - accuracy: 0.7945 - val_loss: 0.4837 - val_accuracy: 0.7783 - 25s/epoch - 5ms/step\n",
            "Epoch 10/50\n",
            "4500/4500 - 26s - loss: 0.4359 - accuracy: 0.7981 - val_loss: 0.4749 - val_accuracy: 0.7778 - 26s/epoch - 6ms/step\n",
            "Epoch 11/50\n",
            "4500/4500 - 26s - loss: 0.4292 - accuracy: 0.8014 - val_loss: 0.4766 - val_accuracy: 0.7797 - 26s/epoch - 6ms/step\n",
            "Epoch 12/50\n",
            "4500/4500 - 25s - loss: 0.4246 - accuracy: 0.8048 - val_loss: 0.4843 - val_accuracy: 0.7807 - 25s/epoch - 5ms/step\n",
            "Epoch 13/50\n",
            "4500/4500 - 26s - loss: 0.4192 - accuracy: 0.8081 - val_loss: 0.4819 - val_accuracy: 0.7770 - 26s/epoch - 6ms/step\n",
            "Epoch 14/50\n",
            "4500/4500 - 26s - loss: 0.4160 - accuracy: 0.8103 - val_loss: 0.4809 - val_accuracy: 0.7793 - 26s/epoch - 6ms/step\n",
            "Epoch 15/50\n",
            "4500/4500 - 24s - loss: 0.4132 - accuracy: 0.8112 - val_loss: 0.4811 - val_accuracy: 0.7756 - 24s/epoch - 5ms/step\n",
            "Epoch 16/50\n",
            "4500/4500 - 26s - loss: 0.4074 - accuracy: 0.8146 - val_loss: 0.4804 - val_accuracy: 0.7727 - 26s/epoch - 6ms/step\n",
            "Epoch 17/50\n",
            "4500/4500 - 26s - loss: 0.4058 - accuracy: 0.8154 - val_loss: 0.4981 - val_accuracy: 0.7761 - 26s/epoch - 6ms/step\n",
            "Epoch 18/50\n",
            "4500/4500 - 26s - loss: 0.4027 - accuracy: 0.8170 - val_loss: 0.4883 - val_accuracy: 0.7750 - 26s/epoch - 6ms/step\n",
            "Epoch 19/50\n",
            "4500/4500 - 25s - loss: 0.4011 - accuracy: 0.8177 - val_loss: 0.5085 - val_accuracy: 0.7750 - 25s/epoch - 6ms/step\n",
            "Epoch 20/50\n",
            "4500/4500 - 26s - loss: 0.3978 - accuracy: 0.8196 - val_loss: 0.4996 - val_accuracy: 0.7752 - 26s/epoch - 6ms/step\n",
            "Epoch 21/50\n",
            "4500/4500 - 25s - loss: 0.3956 - accuracy: 0.8210 - val_loss: 0.4850 - val_accuracy: 0.7770 - 25s/epoch - 6ms/step\n",
            "Epoch 22/50\n",
            "4500/4500 - 25s - loss: 0.3937 - accuracy: 0.8215 - val_loss: 0.4885 - val_accuracy: 0.7756 - 25s/epoch - 6ms/step\n",
            "Epoch 23/50\n",
            "4500/4500 - 26s - loss: 0.3917 - accuracy: 0.8235 - val_loss: 0.5085 - val_accuracy: 0.7761 - 26s/epoch - 6ms/step\n",
            "Epoch 24/50\n",
            "4500/4500 - 26s - loss: 0.3901 - accuracy: 0.8242 - val_loss: 0.4960 - val_accuracy: 0.7733 - 26s/epoch - 6ms/step\n",
            "Epoch 25/50\n",
            "4500/4500 - 25s - loss: 0.3878 - accuracy: 0.8253 - val_loss: 0.4987 - val_accuracy: 0.7765 - 25s/epoch - 5ms/step\n",
            "Epoch 26/50\n",
            "4500/4500 - 26s - loss: 0.3866 - accuracy: 0.8260 - val_loss: 0.5015 - val_accuracy: 0.7763 - 26s/epoch - 6ms/step\n",
            "Epoch 27/50\n",
            "4500/4500 - 26s - loss: 0.3848 - accuracy: 0.8276 - val_loss: 0.4845 - val_accuracy: 0.7746 - 26s/epoch - 6ms/step\n",
            "Epoch 28/50\n",
            "4500/4500 - 24s - loss: 0.3843 - accuracy: 0.8268 - val_loss: 0.4956 - val_accuracy: 0.7709 - 24s/epoch - 5ms/step\n",
            "Epoch 29/50\n",
            "4500/4500 - 26s - loss: 0.3835 - accuracy: 0.8278 - val_loss: 0.5042 - val_accuracy: 0.7738 - 26s/epoch - 6ms/step\n",
            "Epoch 30/50\n",
            "4500/4500 - 26s - loss: 0.3815 - accuracy: 0.8280 - val_loss: 0.5034 - val_accuracy: 0.7709 - 26s/epoch - 6ms/step\n",
            "Epoch 31/50\n",
            "4500/4500 - 25s - loss: 0.3813 - accuracy: 0.8289 - val_loss: 0.4987 - val_accuracy: 0.7726 - 25s/epoch - 5ms/step\n",
            "Epoch 32/50\n",
            "4500/4500 - 26s - loss: 0.3791 - accuracy: 0.8292 - val_loss: 0.4967 - val_accuracy: 0.7733 - 26s/epoch - 6ms/step\n",
            "Epoch 33/50\n",
            "4500/4500 - 26s - loss: 0.3780 - accuracy: 0.8308 - val_loss: 0.4951 - val_accuracy: 0.7756 - 26s/epoch - 6ms/step\n",
            "Epoch 34/50\n",
            "4500/4500 - 26s - loss: 0.3781 - accuracy: 0.8303 - val_loss: 0.5137 - val_accuracy: 0.7761 - 26s/epoch - 6ms/step\n",
            "Epoch 35/50\n",
            "4500/4500 - 25s - loss: 0.3768 - accuracy: 0.8311 - val_loss: 0.5129 - val_accuracy: 0.7761 - 25s/epoch - 6ms/step\n",
            "Epoch 36/50\n",
            "4500/4500 - 26s - loss: 0.3753 - accuracy: 0.8323 - val_loss: 0.5094 - val_accuracy: 0.7712 - 26s/epoch - 6ms/step\n",
            "Epoch 37/50\n",
            "4500/4500 - 26s - loss: 0.3750 - accuracy: 0.8323 - val_loss: 0.5114 - val_accuracy: 0.7739 - 26s/epoch - 6ms/step\n",
            "Epoch 38/50\n",
            "4500/4500 - 25s - loss: 0.3748 - accuracy: 0.8333 - val_loss: 0.5177 - val_accuracy: 0.7724 - 25s/epoch - 5ms/step\n",
            "Epoch 39/50\n",
            "4500/4500 - 26s - loss: 0.3721 - accuracy: 0.8344 - val_loss: 0.4992 - val_accuracy: 0.7710 - 26s/epoch - 6ms/step\n",
            "Epoch 40/50\n",
            "4500/4500 - 26s - loss: 0.3719 - accuracy: 0.8344 - val_loss: 0.5192 - val_accuracy: 0.7684 - 26s/epoch - 6ms/step\n",
            "Epoch 41/50\n",
            "4500/4500 - 24s - loss: 0.3732 - accuracy: 0.8333 - val_loss: 0.5050 - val_accuracy: 0.7716 - 24s/epoch - 5ms/step\n",
            "Epoch 42/50\n",
            "4500/4500 - 26s - loss: 0.3700 - accuracy: 0.8352 - val_loss: 0.4931 - val_accuracy: 0.7728 - 26s/epoch - 6ms/step\n",
            "Epoch 43/50\n",
            "4500/4500 - 26s - loss: 0.3700 - accuracy: 0.8344 - val_loss: 0.5232 - val_accuracy: 0.7761 - 26s/epoch - 6ms/step\n",
            "Epoch 44/50\n",
            "4500/4500 - 25s - loss: 0.3685 - accuracy: 0.8354 - val_loss: 0.5061 - val_accuracy: 0.7721 - 25s/epoch - 5ms/step\n",
            "Epoch 45/50\n",
            "4500/4500 - 26s - loss: 0.3696 - accuracy: 0.8344 - val_loss: 0.5068 - val_accuracy: 0.7698 - 26s/epoch - 6ms/step\n",
            "Epoch 46/50\n",
            "4500/4500 - 26s - loss: 0.3685 - accuracy: 0.8363 - val_loss: 0.4986 - val_accuracy: 0.7691 - 26s/epoch - 6ms/step\n",
            "Epoch 47/50\n",
            "4500/4500 - 25s - loss: 0.3687 - accuracy: 0.8360 - val_loss: 0.5143 - val_accuracy: 0.7726 - 25s/epoch - 5ms/step\n",
            "Epoch 48/50\n",
            "4500/4500 - 26s - loss: 0.3674 - accuracy: 0.8372 - val_loss: 0.4897 - val_accuracy: 0.7753 - 26s/epoch - 6ms/step\n",
            "Epoch 49/50\n",
            "4500/4500 - 26s - loss: 0.3668 - accuracy: 0.8380 - val_loss: 0.5330 - val_accuracy: 0.7705 - 26s/epoch - 6ms/step\n",
            "Epoch 50/50\n",
            "4500/4500 - 25s - loss: 0.3660 - accuracy: 0.8370 - val_loss: 0.5331 - val_accuracy: 0.7686 - 25s/epoch - 6ms/step\n",
            "Training Complete\n"
          ]
        }
      ],
      "source": [
        "from tensorflow.keras.regularizers import l2\n",
        "\n",
        "model = tf.keras.Sequential([\n",
        "    tf.keras.layers.Embedding(vocab_size+1, embedding_dim, input_length=max_length, weights=[embeddings_matrix], trainable=False),\n",
        "    # YOUR CODE HERE - experiment with combining different types, such as convolutions and LSTMs\n",
        "    tf.keras.layers.Dropout(0.2),\n",
        "    tf.keras.layers.LSTM(128, return_sequences=True),\n",
        "    tf.keras.layers.Dropout(0.2),\n",
        "    tf.keras.layers.LSTM(64, return_sequences=False, kernel_regularizer=l2(0.01)),\n",
        "    tf.keras.layers.Dense(64, activation='relu', kernel_regularizer=l2(0.01)),\n",
        "    tf.keras.layers.Dense(1, activation='sigmoid')\n",
        "\n",
        "])\n",
        "model.compile(loss='binary_crossentropy',optimizer='adam',metrics=['accuracy'])\n",
        "model.summary()\n",
        "\n",
        "num_epochs = 50\n",
        "\n",
        "training_padded = np.array(training_sequences)\n",
        "training_labels = np.array(training_labels)\n",
        "testing_padded = np.array(test_sequences)\n",
        "testing_labels = np.array(test_labels)\n",
        "\n",
        "history = model.fit(training_padded, training_labels, epochs=num_epochs, validation_data=(testing_padded, testing_labels), verbose=2)\n",
        "\n",
        "print(\"Training Complete\")\n"
      ]
    },
    {
      "cell_type": "code",
      "execution_count": 15,
      "metadata": {
        "id": "qxju4ItJKO8F",
        "scrolled": true,
        "outputId": "a118f929-b3f2-46a9-9f70-ae01f38dcd9a",
        "colab": {
          "base_uri": "https://localhost:8080/",
          "height": 963
        }
      },
      "outputs": [
        {
          "output_type": "execute_result",
          "data": {
            "text/plain": [
              "<Figure size 640x480 with 0 Axes>"
            ]
          },
          "metadata": {},
          "execution_count": 15
        },
        {
          "output_type": "display_data",
          "data": {
            "text/plain": [
              "<Figure size 640x480 with 1 Axes>"
            ],
            "image/png": "[encoded data removed]"
          },
          "metadata": {}
        },
        {
          "output_type": "display_data",
          "data": {
            "text/plain": [
              "<Figure size 640x480 with 1 Axes>"
            ],
            "image/png": "[encoded data removed]"
          },
          "metadata": {}
        },
        {
          "output_type": "display_data",
          "data": {
            "text/plain": [
              "<Figure size 640x480 with 0 Axes>"
            ]
          },
          "metadata": {}
        }
      ],
      "source": [
        "import matplotlib.image  as mpimg\n",
        "import matplotlib.pyplot as plt\n",
        "\n",
        "#-----------------------------------------------------------\n",
        "# Retrieve a list of list results on training and test data\n",
        "# sets for each training epoch\n",
        "#-----------------------------------------------------------\n",
        "acc=history.history['accuracy']\n",
        "val_acc=history.history['val_accuracy']\n",
        "loss=history.history['loss']\n",
        "val_loss=history.history['val_loss']\n",
        "\n",
        "epochs=range(len(acc)) # Get number of epochs\n",
        "\n",
        "#------------------------------------------------\n",
        "# Plot training and validation accuracy per epoch\n",
        "#------------------------------------------------\n",
        "plt.plot(epochs, acc, 'r')\n",
        "plt.plot(epochs, val_acc, 'b')\n",
        "plt.title('Training and validation accuracy')\n",
        "plt.xlabel(\"Epochs\")\n",
        "plt.ylabel(\"Accuracy\")\n",
        "plt.legend([\"Accuracy\", \"Validation Accuracy\"])\n",
        "\n",
        "plt.figure()\n",
        "\n",
        "#------------------------------------------------\n",
        "# Plot training and validation loss per epoch\n",
        "#------------------------------------------------\n",
        "plt.plot(epochs, loss, 'r')\n",
        "plt.plot(epochs, val_loss, 'b')\n",
        "plt.title('Training and validation loss')\n",
        "plt.xlabel(\"Epochs\")\n",
        "plt.ylabel(\"Loss\")\n",
        "plt.legend([\"Loss\", \"Validation Loss\"])\n",
        "\n",
        "plt.figure()\n",
        "\n",
        "\n",
        "# Expected Output\n",
        "# A chart where the validation loss does not increase sharply!"
      ]
    },
    {
      "cell_type": "code",
      "execution_count": null,
      "metadata": {
        "scrolled": true,
        "id": "VOjg3aXFOh_J"
      },
      "outputs": [],
      "source": []
    }
  ],
  "metadata": {
    "accelerator": "GPU",
    "colab": {
      "name": "NLP Course - Week 3 Exercise Question.ipynb",
      "provenance": []
    },
    "kernelspec": {
      "display_name": "Python 3 (ipykernel)",
      "language": "python",
      "name": "python3"
    },
    "language_info": {
      "codemirror_mode": {
        "name": "ipython",
        "version": 3
      },
      "file_extension": ".py",
      "mimetype": "text/x-python",
      "name": "python",
      "nbconvert_exporter": "python",
      "pygments_lexer": "ipython3",
      "version": "3.11.9"
    }
  },
  "nbformat": 4,
  "nbformat_minor": 0
}